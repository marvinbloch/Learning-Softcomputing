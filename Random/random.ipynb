{
 "cells": [
  {
   "cell_type": "code",
   "execution_count": 3,
   "id": "dc206272-0538-444e-946c-e5cfaa1fe592",
   "metadata": {
    "tags": []
   },
   "outputs": [],
   "source": [
    "import pandas as pd\n",
    "import csv\n",
    "import random"
   ]
  },
  {
   "cell_type": "code",
   "execution_count": 4,
   "id": "0011f1a0-d8b3-4b00-9d50-e6dab351f075",
   "metadata": {
    "tags": []
   },
   "outputs": [],
   "source": [
    "\n",
    "df = pd.read_excel('daten.xlsx', sheet_name=None)"
   ]
  },
  {
   "cell_type": "code",
   "execution_count": 5,
   "id": "13792548-f1da-4a9e-8af5-f71b041a6311",
   "metadata": {
    "tags": []
   },
   "outputs": [
    {
     "name": "stdout",
     "output_type": "stream",
     "text": [
      "{'PLZ':       PLZ         Stadtteil      Lage\n",
      "0   20095  Hamburg-Altstadt  sehr gut\n",
      "1   20097         St. Georg       gut\n",
      "2   20099  Hamburg-Altstadt  sehr gut\n",
      "3   20144        Eimsbüttel       gut\n",
      "4   20146      Harvestehude  sehr gut\n",
      "..    ...               ...       ...\n",
      "95  22761        Bahrenfeld       gut\n",
      "96  22763          Ottensen  sehr gut\n",
      "97  22765      Sternschanze  sehr gut\n",
      "98  22767         St. Pauli       gut\n",
      "99  22769         St. Pauli       gut\n",
      "\n",
      "[100 rows x 3 columns], 'Zimmer':     m2  Zimmer\n",
      "0   39       1\n",
      "1   58       2\n",
      "2   87       3\n",
      "3  124       4\n",
      "4  160       5\n",
      "5  222       6, 'Energie':   Energie  Start  Ende\n",
      "0       A   2016  2023\n",
      "1       B   2010  2015\n",
      "2       C   1993  2009\n",
      "3       D   1973  1992\n",
      "4       E   1966  1972\n",
      "5       F   1956  1965\n",
      "6       G   1910  1955, 'Miete':    Index  Miete von  Miete bis    Lage\n",
      "0     C1       9.06      14.81  normal\n",
      "1     C2       8.50      13.22  normal\n",
      "2     C3       8.80      12.88  normal\n",
      "3     C4       8.21      11.78  normal\n",
      "4     C5      10.21      15.18     gut\n",
      "..   ...        ...        ...     ...\n",
      "76    O5      15.72      19.16     gut\n",
      "77    O6      11.55      18.29     gut\n",
      "78    O7      11.51      17.36     gut\n",
      "79    O8      12.93      17.52     gut\n",
      "80    O9      13.65      21.88     gut\n",
      "\n",
      "[81 rows x 4 columns], 'M2':    m2 von  m2 bis  Index    Lage\n",
      "0      15      41      1  normal\n",
      "1      42      66      2  normal\n",
      "2      67      91      3  normal\n",
      "3      92     222      4  normal\n",
      "4      15      41      5     gut\n",
      "5      42      66      6     gut\n",
      "6      67      91      7     gut\n",
      "7      92     131      8     gut\n",
      "8     132     222      9     gut, 'Baujahr':    BJ von  BJ Bis Index\n",
      "0    1900    1918     C\n",
      "1    1919    1948     F\n",
      "2    1949    1960     H\n",
      "3    1961    1967     I\n",
      "4    1968    1977     K\n",
      "5    1978    1993     L\n",
      "6    1994    2010     M\n",
      "7    2011    2015     N\n",
      "8    2016    2023     O}\n"
     ]
    }
   ],
   "source": [
    "print(df)"
   ]
  },
  {
   "cell_type": "code",
   "execution_count": 6,
   "id": "dbcd9d2f-cab4-4f4b-b377-853b9b9e6c8e",
   "metadata": {
    "tags": []
   },
   "outputs": [],
   "source": [
    "def getM2IndexFromLocation(m2, df, location):\n",
    "    m2_mask = (df['m2 von'] <= m2) & (m2 <= df['m2 bis'])\n",
    "    lage_mask = df['Lage'] == location\n",
    "\n",
    "    # Apply the masks to select the desired row(s)\n",
    "    selected_row = df[m2_mask & lage_mask]\n",
    "    return selected_row[\"Index\"].values[0]\n",
    "\n",
    "def getAgeIndex(age, df):\n",
    "    age_mask = (df['BJ von'] <= age) & (age <= df['BJ Bis'])\n",
    "    selected_row = df[age_mask]\n",
    "    return selected_row[\"Index\"].values[0]\n",
    "\n",
    "def getRooms(m2, df):\n",
    "    m2_mask = (m2 <= df['m2'])\n",
    "    selected_row = df[m2_mask]\n",
    "    return selected_row[\"Zimmer\"].values[0]\n",
    "\n",
    "def getEnergie(age, df):\n",
    "    age_mask = (df['Start'] <= age) & (age <= df['Ende'])\n",
    "    selected_row = df[age_mask]\n",
    "    return selected_row[\"Energie\"].values[0]\n",
    "\n",
    "def getRent(key, df):\n",
    "    key_mask = (df['Index'] == key)\n",
    "    selected_row = df[key_mask]\n",
    "    rent = round(random.uniform(selected_row[\"Miete von\"], selected_row[\"Miete bis\"]), 2)\n",
    "    return rent.values[0]\n",
    "\n",
    "def getDistrictAndLocation(plz, df):\n",
    "    key_mask = (df['PLZ'] == plz)\n",
    "    selected_row = df[key_mask]\n",
    "    district = selected_row[\"Stadtteil\"].values[0]\n",
    "    location = selected_row[\"Lage\"].values[0]\n",
    "    if location == \"sehr gut\":\n",
    "        location = \"gut\"\n",
    "    return ( district,  location)\n",
    "    \n",
    "def randomData(plz, district, location, df):\n",
    "    l = random.randint(1, 200) #Wie viel Objekte fuer eine Plz erstellt werden\n",
    "    result = []\n",
    "    for _ in range(l):\n",
    "        row = [plz, district, location]\n",
    "        age = random.randint(1910, 2023)\n",
    "        row.append(age)\n",
    "        m2 = random.randint(15, 222)\n",
    "        row.append(m2)\n",
    "        m2Index  = getM2IndexFromLocation(m2, df[\"M2\"], location)\n",
    "        ageIndex = getAgeIndex(age, df[\"Baujahr\"])\n",
    "        rooms = getRooms(m2, df[\"Zimmer\"])\n",
    "        row.append(rooms)\n",
    "        energie = getEnergie(age, df[\"Energie\"])\n",
    "        row.append(energie)\n",
    "        key = ageIndex + str(m2Index)\n",
    "        rent = getRent(key, df[\"Miete\"])\n",
    "        row.append(rent)\n",
    "        result.append(row)\n",
    "    return result\n",
    "\n",
    "header = ['zipcode', 'district', 'location', 'age', 'm2', 'rooms', 'energie', 'rent']\n",
    "\n",
    "def writeToFile(result):\n",
    "    with open('data.csv', 'w', newline='') as file:\n",
    "        writer = csv.writer(file)\n",
    "        writer.writerow(header)\n",
    "        writer.writerows(result)\n",
    "\n",
    "    print('CSV file created successfully.')"
   ]
  },
  {
   "cell_type": "code",
   "execution_count": 7,
   "id": "ed1abbd7-5e76-43f9-a6e4-6d95e739d1cc",
   "metadata": {
    "tags": []
   },
   "outputs": [
    {
     "name": "stdout",
     "output_type": "stream",
     "text": [
      "CSV file created successfully.\n"
     ]
    }
   ],
   "source": [
    "\n",
    "plzs = df[\"PLZ\"][\"PLZ\"]\n",
    "result = []\n",
    "for plz in plzs:\n",
    "    (district, location) = getDistrictAndLocation(plz, df[\"PLZ\"])\n",
    "    result.append(randomData(plz, district, location, df))\n",
    "    \n",
    "result = [item for sublist in result for item in sublist] #Result Listen in eine Liste konkatenieren\n",
    "    \n",
    "writeToFile(result)"
   ]
  },
  {
   "cell_type": "code",
   "execution_count": null,
   "id": "cae6c27d-fe14-46ed-8166-b8eb1a8215fd",
   "metadata": {},
   "outputs": [],
   "source": []
  }
 ],
 "metadata": {
  "kernelspec": {
   "display_name": "Python 3",
   "language": "python",
   "name": "python3"
  },
  "language_info": {
   "codemirror_mode": {
    "name": "ipython",
    "version": 3
   },
   "file_extension": ".py",
   "mimetype": "text/x-python",
   "name": "python",
   "nbconvert_exporter": "python",
   "pygments_lexer": "ipython3",
   "version": "3.11.3"
  }
 },
 "nbformat": 4,
 "nbformat_minor": 5
}
